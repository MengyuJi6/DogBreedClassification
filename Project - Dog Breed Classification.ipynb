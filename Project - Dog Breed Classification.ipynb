{
 "cells": [
  {
   "cell_type": "code",
   "execution_count": 32,
   "metadata": {},
   "outputs": [],
   "source": [
    "import numpy as np\n",
    "import glob\n",
    "import pandas as pd\n",
    "import os\n",
    "import shutil\n",
    "import random"
   ]
  },
  {
   "cell_type": "markdown",
   "metadata": {},
   "source": [
    "Let's look at some data:"
   ]
  },
  {
   "cell_type": "code",
   "execution_count": 33,
   "metadata": {},
   "outputs": [
    {
     "data": {
      "text/html": [
       "<div>\n",
       "<style scoped>\n",
       "    .dataframe tbody tr th:only-of-type {\n",
       "        vertical-align: middle;\n",
       "    }\n",
       "\n",
       "    .dataframe tbody tr th {\n",
       "        vertical-align: top;\n",
       "    }\n",
       "\n",
       "    .dataframe thead th {\n",
       "        text-align: right;\n",
       "    }\n",
       "</style>\n",
       "<table border=\"1\" class=\"dataframe\">\n",
       "  <thead>\n",
       "    <tr style=\"text-align: right;\">\n",
       "      <th></th>\n",
       "      <th>id</th>\n",
       "      <th>breed</th>\n",
       "    </tr>\n",
       "  </thead>\n",
       "  <tbody>\n",
       "    <tr>\n",
       "      <th>0</th>\n",
       "      <td>id</td>\n",
       "      <td>breed</td>\n",
       "    </tr>\n",
       "    <tr>\n",
       "      <th>1</th>\n",
       "      <td>000bec180eb18c7604dcecc8fe0dba07</td>\n",
       "      <td>boston_bull</td>\n",
       "    </tr>\n",
       "    <tr>\n",
       "      <th>2</th>\n",
       "      <td>001513dfcb2ffafc82cccf4d8bbaba97</td>\n",
       "      <td>dingo</td>\n",
       "    </tr>\n",
       "    <tr>\n",
       "      <th>3</th>\n",
       "      <td>001cdf01b096e06d78e9e5112d419397</td>\n",
       "      <td>pekinese</td>\n",
       "    </tr>\n",
       "    <tr>\n",
       "      <th>4</th>\n",
       "      <td>00214f311d5d2247d5dfe4fe24b2303d</td>\n",
       "      <td>bluetick</td>\n",
       "    </tr>\n",
       "  </tbody>\n",
       "</table>\n",
       "</div>"
      ],
      "text/plain": [
       "                                 id        breed\n",
       "0                                id        breed\n",
       "1  000bec180eb18c7604dcecc8fe0dba07  boston_bull\n",
       "2  001513dfcb2ffafc82cccf4d8bbaba97        dingo\n",
       "3  001cdf01b096e06d78e9e5112d419397     pekinese\n",
       "4  00214f311d5d2247d5dfe4fe24b2303d     bluetick"
      ]
     },
     "execution_count": 33,
     "metadata": {},
     "output_type": "execute_result"
    }
   ],
   "source": [
    "pd_read = pd.read_csv('/Users/jifeng/Desktop/dog-breed-identification/labels.csv', delimiter=',', names = ['id', 'breed'], low_memory=False) \n",
    "pd_read.head()"
   ]
  },
  {
   "cell_type": "markdown",
   "metadata": {},
   "source": [
    "Preprocessing the data for training and validation use. There are 9122 images used for training and 1100 images used for validation."
   ]
  },
  {
   "cell_type": "code",
   "execution_count": 34,
   "metadata": {},
   "outputs": [],
   "source": [
    "def createFolder(directory):\n",
    "    try:\n",
    "        if not os.path.exists(directory):\n",
    "            os.makedirs(directory)\n",
    "    except OSError:\n",
    "        print ('Error: Creating directory. ' +  directory)"
   ]
  },
  {
   "cell_type": "code",
   "execution_count": 35,
   "metadata": {},
   "outputs": [],
   "source": [
    "# Split training data into different folders\n",
    "for i in range(1101, len(pd_read)):\n",
    "    img_name = pd_read.iloc[i].id + '.jpg'\n",
    "    img_breed = pd_read.iloc[i].breed\n",
    "\n",
    "# Create folder if current folder not exist    \n",
    "    folder_path = '/Users/jifeng/Desktop/dog-breed-identification/train_data/' + str(img_breed) + '/'\n",
    "    createFolder(folder_path)\n",
    "\n",
    "# Copy and paste specified image into destination folder\n",
    "    src = '/Users/jifeng/Desktop/dog-breed-identification/train/' + str(img_name)\n",
    "    des = folder_path + str(img_name)\n",
    "    if not os.path.exists(des):\n",
    "        newPath = shutil.copy(src, des)"
   ]
  },
  {
   "cell_type": "code",
   "execution_count": 36,
   "metadata": {},
   "outputs": [],
   "source": [
    "# Split validation data into different folders\n",
    "for i in range(1, 1100):\n",
    "    img_name = pd_read.iloc[i].id + '.jpg'\n",
    "    img_breed = pd_read.iloc[i].breed\n",
    "\n",
    "# Create folder if current folder not exist    \n",
    "    folder_path = '/Users/jifeng/Desktop/dog-breed-identification/validation_data/' + str(img_breed) + '/'\n",
    "    createFolder(folder_path)\n",
    "\n",
    "# Copy and paste specified image into destination folder\n",
    "    src = '/Users/jifeng/Desktop/dog-breed-identification/validation/' + str(img_name)\n",
    "    des = folder_path + str(img_name)\n",
    "    if not os.path.exists(des):\n",
    "        newPath = shutil.copy(src, des)"
   ]
  },
  {
   "cell_type": "code",
   "execution_count": null,
   "metadata": {},
   "outputs": [],
   "source": []
  }
 ],
 "metadata": {
  "kernelspec": {
   "display_name": "Python 3",
   "language": "python",
   "name": "python3"
  },
  "language_info": {
   "codemirror_mode": {
    "name": "ipython",
    "version": 3
   },
   "file_extension": ".py",
   "mimetype": "text/x-python",
   "name": "python",
   "nbconvert_exporter": "python",
   "pygments_lexer": "ipython3",
   "version": "3.6.8"
  }
 },
 "nbformat": 4,
 "nbformat_minor": 2
}
